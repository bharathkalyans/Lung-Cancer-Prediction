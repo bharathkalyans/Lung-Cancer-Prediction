{
 "cells": [
  {
   "cell_type": "code",
   "execution_count": 12,
   "id": "91bcbb28-e139-45a1-8427-ad0999f57f81",
   "metadata": {},
   "outputs": [],
   "source": [
    "import pandas\n",
    "import numpy as np\n",
    "import streamlit as st\n",
    "import pickle\n",
    "from PIL import Image"
   ]
  },
  {
   "cell_type": "code",
   "execution_count": 13,
   "id": "00ccac14-66bf-4fda-919a-150c844a23f3",
   "metadata": {},
   "outputs": [],
   "source": [
    "pickle_in = open('model.pkl','rb')\n",
    "model = pickle.load(pickle_in)\n"
   ]
  },
  {
   "cell_type": "code",
   "execution_count": 19,
   "id": "24a7f101-272c-4af1-bb51-c30670406494",
   "metadata": {},
   "outputs": [],
   "source": [
    "if __name__ == '__main__':\n",
    "    main()"
   ]
  },
  {
   "cell_type": "code",
   "execution_count": 8,
   "id": "a073c294-de98-471c-aaf4-606db342e7b1",
   "metadata": {},
   "outputs": [],
   "source": [
    "columns =  ['GENDER', 'AGE', 'SMOKING', 'YELLOW_FINGERS', 'ANXIETY', 'PEER_PRESSURE',\n",
    "    'CHRONIC_DISEASE', 'FATIGUE ', 'ALLERGY ', 'WHEEZING', 'ALCOHOL_CONSUMING','COUGHING', \n",
    "    'SHORTNESS_OF_BREATH', 'SWALLOWING_DIFFICULTY', 'CHEST_PAIN', 'LUNG_CANCER']"
   ]
  },
  {
   "cell_type": "code",
   "execution_count": 18,
   "id": "d4f35240-dd62-41d0-91c3-529a410c681c",
   "metadata": {},
   "outputs": [],
   "source": [
    "def main():\n",
    "    st.title(\"Lung Cancer Prediction\")\n",
    "    GENDER = st.text_input(\"GENDER\",\"Type Here\")\n",
    "    AGE = st.text_input(\"AGE\",\"Type Here\")\n",
    "    SMOKING = st.text_input(\"SMOKING\",\"Type Here\")\n",
    "    YELLOW_FINGERS = st.text_input(\"YELLOW_FINGERS\",\"Type Here\")\n",
    "    ANXIETY = st.text_input(\"ANXIETY\",\"Type Here\")\n",
    "    PEER_PRESSURE = st.text_input(\"PEER_PRESSURE\",\"Type Here\")\n",
    "    CHRONIC_DISEASE = st.text_input(\"CHRONIC DISEASE\",\"Type Here\")\n",
    "    FATIGUE = st.text_input(\"FATIGUE\",\"Type Here\")\n",
    "    ALLERGY = st.text_input(\"ALLERGY\",\"Type Here\")\n",
    "    WHEEZING = st.text_input(\"WHEEZING\",\"Type Here\")\n",
    "    ALCOHOL_CONSUMING = st.text_input(\"ALCOHOL CONSUMING\",\"Type Here\")\n",
    "    COUGHING = st.text_input(\"COUGHING\",\"Type Here\")\n",
    "    SHORTNESS_OF_BREATH = st.text_input(\"SHORTNESS OF BREATH\",\"Type Here\")\n",
    "    SWALLOWING_DIFFICULTY = st.text_input(\"SWALLOWING DIFFICULTY\",\"Type Here\")\n",
    "    CHEST_PAIN = st.text_input(\"CHEST PAIN\",\"Type Here\")\n",
    "    result = \"\"\n",
    "    \n",
    "    if st.button('Predict'):\n",
    "        result = prediction(columns[:-1])\n",
    "    st.success('The Output is {}'.format(result))\n",
    "    "
   ]
  },
  {
   "cell_type": "code",
   "execution_count": 17,
   "id": "3bdc46b8-9c8f-474f-9fee-d9aed04a7575",
   "metadata": {},
   "outputs": [],
   "source": [
    "def prediction(cols):\n",
    "    prediction = model.predict(cols);\n",
    "    print(prediction)\n",
    "    return prediction\n",
    "    "
   ]
  },
  {
   "cell_type": "code",
   "execution_count": null,
   "id": "8ffabe48-519d-4ba4-8f9a-7677281c31c2",
   "metadata": {},
   "outputs": [],
   "source": []
  }
 ],
 "metadata": {
  "kernelspec": {
   "display_name": "Python 3",
   "language": "python",
   "name": "python3"
  },
  "language_info": {
   "codemirror_mode": {
    "name": "ipython",
    "version": 3
   },
   "file_extension": ".py",
   "mimetype": "text/x-python",
   "name": "python",
   "nbconvert_exporter": "python",
   "pygments_lexer": "ipython3",
   "version": "3.8.8"
  }
 },
 "nbformat": 4,
 "nbformat_minor": 5
}
